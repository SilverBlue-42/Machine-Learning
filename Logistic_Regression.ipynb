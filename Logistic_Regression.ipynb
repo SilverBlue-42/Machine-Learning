{
 "cells": [
  {
   "cell_type": "code",
   "execution_count": 1,
   "metadata": {
    "id": "HAI1N023cuo9"
   },
   "outputs": [],
   "source": [
    "import pandas as pd\n",
    "import numpy as np\n",
    "import matplotlib.pyplot as plt\n",
    "import seaborn as sns\n",
    "from sklearn.datasets import make_classification"
   ]
  },
  {
   "cell_type": "code",
   "execution_count": 2,
   "metadata": {
    "id": "uqPDY6xTcuC8"
   },
   "outputs": [],
   "source": [
    "# make_classification\n",
    "X , y = make_classification(n_samples = 100, n_features=4, n_redundant=0, n_classes=2, random_state=53)"
   ]
  },
  {
   "cell_type": "code",
   "execution_count": 3,
   "metadata": {
    "colab": {
     "base_uri": "https://localhost:8080/"
    },
    "id": "x9N9uBuKctw0",
    "outputId": "a4141cf5-0d51-43d4-e7ed-e11da7d0778e"
   },
   "outputs": [
    {
     "data": {
      "text/plain": [
       "(100, 4)"
      ]
     },
     "execution_count": 3,
     "metadata": {},
     "output_type": "execute_result"
    }
   ],
   "source": [
    "X.shape"
   ]
  },
  {
   "cell_type": "code",
   "execution_count": 4,
   "metadata": {
    "colab": {
     "base_uri": "https://localhost:8080/"
    },
    "id": "lEe-jfuHdceN",
    "outputId": "e7aa613d-3864-4875-bedb-e5a59ba85af0"
   },
   "outputs": [
    {
     "data": {
      "text/plain": [
       "(100,)"
      ]
     },
     "execution_count": 4,
     "metadata": {},
     "output_type": "execute_result"
    }
   ],
   "source": [
    "y.shape"
   ]
  },
  {
   "cell_type": "code",
   "execution_count": 6,
   "metadata": {
    "id": "SwQ2vaTfdkqY"
   },
   "outputs": [],
   "source": [
    "from sklearn.model_selection import train_test_split"
   ]
  },
  {
   "cell_type": "code",
   "execution_count": 7,
   "metadata": {
    "id": "Qh9v4lE1dkzX"
   },
   "outputs": [],
   "source": [
    "X_train, X_test, y_train, y_test = train_test_split(X, y, test_size=0.20)"
   ]
  },
  {
   "cell_type": "code",
   "execution_count": 8,
   "metadata": {
    "colab": {
     "base_uri": "https://localhost:8080/"
    },
    "id": "HZjHMrjudk5F",
    "outputId": "93361dad-781b-4235-d797-15ccdf6f9b86"
   },
   "outputs": [
    {
     "data": {
      "text/plain": [
       "(80, 4)"
      ]
     },
     "execution_count": 8,
     "metadata": {},
     "output_type": "execute_result"
    }
   ],
   "source": [
    "X_train.shape"
   ]
  },
  {
   "cell_type": "code",
   "execution_count": 9,
   "metadata": {
    "colab": {
     "base_uri": "https://localhost:8080/"
    },
    "id": "Di92n8ZVdk9g",
    "outputId": "0b4b4c95-4d43-43c0-a57c-4a6b2989d628"
   },
   "outputs": [
    {
     "data": {
      "text/plain": [
       "(20,)"
      ]
     },
     "execution_count": 9,
     "metadata": {},
     "output_type": "execute_result"
    }
   ],
   "source": [
    "y_test.shape"
   ]
  },
  {
   "cell_type": "code",
   "execution_count": 10,
   "metadata": {
    "id": "1zabIE7ZeHKb"
   },
   "outputs": [],
   "source": [
    "from sklearn.linear_model import LogisticRegression"
   ]
  },
  {
   "cell_type": "code",
   "execution_count": 11,
   "metadata": {
    "id": "kYSlzf8yeAp-"
   },
   "outputs": [],
   "source": [
    "model = LogisticRegression()"
   ]
  },
  {
   "cell_type": "code",
   "execution_count": 12,
   "metadata": {
    "colab": {
     "base_uri": "https://localhost:8080/"
    },
    "id": "XDovSn8TeBF7",
    "outputId": "99088fd0-2b06-4e5d-d5d1-8546ac061606"
   },
   "outputs": [
    {
     "data": {
      "text/plain": [
       "LogisticRegression()"
      ]
     },
     "execution_count": 12,
     "metadata": {},
     "output_type": "execute_result"
    }
   ],
   "source": [
    "model.fit(X_train, y_train)"
   ]
  },
  {
   "cell_type": "code",
   "execution_count": 13,
   "metadata": {
    "colab": {
     "base_uri": "https://localhost:8080/"
    },
    "id": "T5O_lap_eBKD",
    "outputId": "03303d5f-0150-4065-9db1-15432f08c9fb"
   },
   "outputs": [
    {
     "data": {
      "text/plain": [
       "0.9125"
      ]
     },
     "execution_count": 13,
     "metadata": {},
     "output_type": "execute_result"
    }
   ],
   "source": [
    "model.score(X_train, y_train)"
   ]
  },
  {
   "cell_type": "code",
   "execution_count": 14,
   "metadata": {
    "colab": {
     "base_uri": "https://localhost:8080/"
    },
    "id": "ZU1JZovteBN0",
    "outputId": "dd818be5-0f3a-486b-ce94-b47ff8ab0221"
   },
   "outputs": [
    {
     "data": {
      "text/plain": [
       "0.8"
      ]
     },
     "execution_count": 14,
     "metadata": {},
     "output_type": "execute_result"
    }
   ],
   "source": [
    "model.score(X_test, y_test)"
   ]
  },
  {
   "cell_type": "code",
   "execution_count": 15,
   "metadata": {
    "colab": {
     "base_uri": "https://localhost:8080/"
    },
    "id": "U069oLU44B-h",
    "outputId": "741b30a4-5280-494c-e277-06c812241bc6"
   },
   "outputs": [
    {
     "data": {
      "text/plain": [
       "array([1])"
      ]
     },
     "execution_count": 15,
     "metadata": {},
     "output_type": "execute_result"
    }
   ],
   "source": [
    "model.predict(np.array([ 0.94276373,  0.52329782,  0.98182194,  2.78591191]).reshape(1,4))"
   ]
  },
  {
   "cell_type": "code",
   "execution_count": 16,
   "metadata": {
    "colab": {
     "base_uri": "https://localhost:8080/"
    },
    "id": "Ot8_CsqZ3Uc2",
    "outputId": "4b1bee86-dced-4e57-9e9f-1c4dd4ce516a"
   },
   "outputs": [
    {
     "data": {
      "text/plain": [
       "array([[0.00206084, 0.99793916]])"
      ]
     },
     "execution_count": 16,
     "metadata": {},
     "output_type": "execute_result"
    }
   ],
   "source": [
    "model.predict_proba(np.array([ 0.94276373,  0.52329782,  0.98182194,  2.78591191]).reshape(1,4))"
   ]
  },
  {
   "cell_type": "code",
   "execution_count": 17,
   "metadata": {
    "colab": {
     "base_uri": "https://localhost:8080/"
    },
    "id": "ZiSWTK5HdlKJ",
    "outputId": "eb3c2491-77e5-4005-9a28-78dd050f5a80"
   },
   "outputs": [
    {
     "data": {
      "text/plain": [
       "array([[ 0.27028362,  0.02233279, -0.23013246,  2.20433402]])"
      ]
     },
     "execution_count": 17,
     "metadata": {},
     "output_type": "execute_result"
    }
   ],
   "source": [
    "model.coef_"
   ]
  },
  {
   "cell_type": "code",
   "execution_count": 18,
   "metadata": {
    "colab": {
     "base_uri": "https://localhost:8080/"
    },
    "id": "awsFnnoTdlNk",
    "outputId": "9add292b-05c3-46b4-da62-9de5842df909"
   },
   "outputs": [
    {
     "data": {
      "text/plain": [
       "array([0.00094601])"
      ]
     },
     "execution_count": 18,
     "metadata": {},
     "output_type": "execute_result"
    }
   ],
   "source": [
    "model.intercept_"
   ]
  },
  {
   "cell_type": "markdown",
   "metadata": {
    "id": "e289WygThl2N"
   },
   "source": [
    "### decision boundary "
   ]
  },
  {
   "cell_type": "code",
   "execution_count": 20,
   "metadata": {
    "id": "eC9_HU_1hpmj"
   },
   "outputs": [],
   "source": [
    "X, y = make_classification(n_samples=100, n_features=2, n_redundant=0, random_state=53)"
   ]
  },
  {
   "cell_type": "code",
   "execution_count": 21,
   "metadata": {
    "colab": {
     "base_uri": "https://localhost:8080/"
    },
    "id": "eLawHtZ0h5LB",
    "outputId": "0497976c-5f26-4489-a276-10caaf8e17f4"
   },
   "outputs": [
    {
     "data": {
      "text/plain": [
       "(100, 2)"
      ]
     },
     "execution_count": 21,
     "metadata": {},
     "output_type": "execute_result"
    }
   ],
   "source": [
    "X.shape"
   ]
  },
  {
   "cell_type": "code",
   "execution_count": 22,
   "metadata": {
    "colab": {
     "base_uri": "https://localhost:8080/",
     "height": 284
    },
    "id": "cxzIaubLhprX",
    "outputId": "e584b244-ef24-407a-c741-ae481269a51b"
   },
   "outputs": [
    {
     "data": {
      "text/plain": [
       "<matplotlib.collections.PathCollection at 0x18c24acf1c0>"
      ]
     },
     "execution_count": 22,
     "metadata": {},
     "output_type": "execute_result"
    },
    {
     "data": {
      "image/png": "[encoded data removed]",
      "text/plain": [
       "<Figure size 432x288 with 1 Axes>"
      ]
     },
     "metadata": {
      "needs_background": "light"
     },
     "output_type": "display_data"
    }
   ],
   "source": [
    "plt.scatter(X.T[0], X.T[1], c=y)"
   ]
  },
  {
   "cell_type": "code",
   "execution_count": 23,
   "metadata": {
    "colab": {
     "base_uri": "https://localhost:8080/"
    },
    "id": "EGF9DvuGhpvF",
    "outputId": "3ad874e2-a761-41f9-af6c-a18d0720def6"
   },
   "outputs": [
    {
     "data": {
      "text/plain": [
       "LogisticRegression()"
      ]
     },
     "execution_count": 23,
     "metadata": {},
     "output_type": "execute_result"
    }
   ],
   "source": [
    "model = LogisticRegression()\n",
    "model.fit(X,y)\n"
   ]
  },
  {
   "cell_type": "code",
   "execution_count": 24,
   "metadata": {
    "id": "2yJuDARkhpza"
   },
   "outputs": [],
   "source": [
    "x11, x22 = np.meshgrid(\n",
    "    np.linspace(X.T[0].min(), X.T[0].max(),1000),\n",
    "    np.linspace(X.T[1].min(), X.T[1].max(),1000))"
   ]
  },
  {
   "cell_type": "code",
   "execution_count": 25,
   "metadata": {
    "colab": {
     "base_uri": "https://localhost:8080/"
    },
    "id": "Db76Jbhahp26",
    "outputId": "2a4a5126-76a2-4505-d114-39dd20ad88c6"
   },
   "outputs": [
    {
     "data": {
      "text/plain": [
       "(1000, 1000)"
      ]
     },
     "execution_count": 25,
     "metadata": {},
     "output_type": "execute_result"
    }
   ],
   "source": [
    "x11.shape"
   ]
  },
  {
   "cell_type": "code",
   "execution_count": 27,
   "metadata": {
    "colab": {
     "base_uri": "https://localhost:8080/",
     "height": 284
    },
    "id": "lWahShA1hp6X",
    "outputId": "3b7f3c00-3c20-4e71-a15c-1ac3861d6550"
   },
   "outputs": [
    {
     "data": {
      "text/plain": [
       "<matplotlib.contour.QuadContourSet at 0x18c26f1c0d0>"
      ]
     },
     "execution_count": 27,
     "metadata": {},
     "output_type": "execute_result"
    },
    {
     "data": {
      "image/png": "[encoded data removed]",
      "text/plain": [
       "<Figure size 432x288 with 1 Axes>"
      ]
     },
     "metadata": {
      "needs_background": "light"
     },
     "output_type": "display_data"
    }
   ],
   "source": [
    "plt.scatter(X.T[0], X.T[1], c=y, edgecolors= \"black\" )\n",
    "plt.contourf(x11,x22,\n",
    "             model.predict(\n",
    "                 np.array(\n",
    "                     [x11.ravel(),x22.ravel()]).T).reshape(x11.shape), alpha= 0.3)"
   ]
  },
  {
   "cell_type": "markdown",
   "metadata": {
    "id": "DaYW62E_hqBC"
   },
   "source": [
    "### decision boundary with polynomial features"
   ]
  },
  {
   "cell_type": "code",
   "execution_count": 29,
   "metadata": {
    "id": "CxggTln4hqEU"
   },
   "outputs": [],
   "source": [
    "from sklearn.preprocessing import PolynomialFeatures\n",
    "from sklearn.model_selection import cross_validate"
   ]
  },
  {
   "cell_type": "code",
   "execution_count": 30,
   "metadata": {
    "colab": {
     "base_uri": "https://localhost:8080/"
    },
    "id": "5ehkv9K1hqHZ",
    "outputId": "6351c0b5-91bd-4855-b0eb-c820b21c6926"
   },
   "outputs": [
    {
     "data": {
      "text/plain": [
       "PolynomialFeatures()"
      ]
     },
     "execution_count": 30,
     "metadata": {},
     "output_type": "execute_result"
    }
   ],
   "source": [
    "model = LogisticRegression()\n",
    "poly = PolynomialFeatures(2)\n",
    "poly.fit(X)"
   ]
  },
  {
   "cell_type": "code",
   "execution_count": 31,
   "metadata": {
    "colab": {
     "base_uri": "https://localhost:8080/"
    },
    "id": "3JzBRYOuhqKX",
    "outputId": "050dea36-2dd5-4540-b9b0-afd410768661"
   },
   "outputs": [
    {
     "name": "stdout",
     "output_type": "stream",
     "text": [
      "Derecem : 2, Train score : 0.948, test score 0.91\n",
      "Derecem : 3, Train score : 0.949, test score 0.91\n",
      "Derecem : 4, Train score : 0.949, test score 0.92\n",
      "Derecem : 5, Train score : 0.951, test score 0.93\n",
      "Derecem : 6, Train score : 0.952, test score 0.92\n",
      "Derecem : 7, Train score : 0.952, test score 0.92\n",
      "Derecem : 8, Train score : 0.952, test score 0.92\n"
     ]
    }
   ],
   "source": [
    "from sklearn import preprocessing\n",
    "for p in range(2,9):\n",
    "    poly = PolynomialFeatures(p)\n",
    "    poly.fit(X)\n",
    "    score = cross_validate(model, preprocessing.scale(poly.transform(X)), y, cv = 10)[\"test_score\"].mean()\n",
    "    ts = cross_validate(model, preprocessing.scale(poly.transform(X)), y, cv = 10, return_train_score=True)[\"train_score\"].mean()\n",
    "    print(f\"Derecem : {p}, Train score : {round(ts,3)}, test score {round(score,3)}\")"
   ]
  },
  {
   "cell_type": "code",
   "execution_count": 44,
   "metadata": {},
   "outputs": [],
   "source": [
    "# we will draw decision boundaries using degree=2 and degree=5"
   ]
  },
  {
   "cell_type": "code",
   "execution_count": 32,
   "metadata": {
    "colab": {
     "base_uri": "https://localhost:8080/"
    },
    "id": "nEmK-QG9hqNE",
    "outputId": "5162c1fd-6282-452a-a9ad-5e6f55ab8321"
   },
   "outputs": [
    {
     "data": {
      "text/plain": [
       "PolynomialFeatures()"
      ]
     },
     "execution_count": 32,
     "metadata": {},
     "output_type": "execute_result"
    }
   ],
   "source": [
    "model = LogisticRegression(solver = \"liblinear\")\n",
    "poly = PolynomialFeatures(2)\n",
    "poly.fit(X)"
   ]
  },
  {
   "cell_type": "code",
   "execution_count": 33,
   "metadata": {
    "colab": {
     "base_uri": "https://localhost:8080/"
    },
    "id": "bpKRnHe-pXBd",
    "outputId": "e44c6fc6-9e86-4934-d69c-2e4de96ac8f7"
   },
   "outputs": [
    {
     "data": {
      "text/plain": [
       "LogisticRegression(solver='liblinear')"
      ]
     },
     "execution_count": 33,
     "metadata": {},
     "output_type": "execute_result"
    }
   ],
   "source": [
    "model.fit(poly.transform(X),y)"
   ]
  },
  {
   "cell_type": "code",
   "execution_count": 34,
   "metadata": {
    "id": "L6tsjmQUo_ZO"
   },
   "outputs": [],
   "source": [
    "x11, x22 = np.meshgrid(\n",
    "    np.linspace(X.T[0].min(), X.T[0].max(),1000),\n",
    "    np.linspace(X.T[1].min(), X.T[1].max(),1000))"
   ]
  },
  {
   "cell_type": "code",
   "execution_count": 35,
   "metadata": {
    "colab": {
     "base_uri": "https://localhost:8080/",
     "height": 284
    },
    "id": "SyXztt5PlwRq",
    "outputId": "be6eda70-b540-4aba-ada9-829e53ed6964"
   },
   "outputs": [
    {
     "data": {
      "text/plain": [
       "<matplotlib.contour.QuadContourSet at 0x18c26f6a520>"
      ]
     },
     "execution_count": 35,
     "metadata": {},
     "output_type": "execute_result"
    },
    {
     "data": {
      "image/png": "[encoded data removed]",
      "text/plain": [
       "<Figure size 432x288 with 1 Axes>"
      ]
     },
     "metadata": {
      "needs_background": "light"
     },
     "output_type": "display_data"
    }
   ],
   "source": [
    "plt.scatter(X.T[0], X.T[1], c=y, edgecolors= \"black\" )\n",
    "plt.contourf(x11,x22,\n",
    "             model.predict(poly.transform(\n",
    "                 np.array(\n",
    "                     [x11.ravel(),x22.ravel()]).T)).reshape(x11.shape), alpha= 0.1)"
   ]
  },
  {
   "cell_type": "code",
   "execution_count": 36,
   "metadata": {
    "id": "NW4s1puOlw3f"
   },
   "outputs": [
    {
     "data": {
      "text/plain": [
       "PolynomialFeatures(degree=5)"
      ]
     },
     "execution_count": 36,
     "metadata": {},
     "output_type": "execute_result"
    }
   ],
   "source": [
    "model = LogisticRegression(solver = \"liblinear\")\n",
    "poly = PolynomialFeatures(5)\n",
    "poly.fit(X)"
   ]
  },
  {
   "cell_type": "code",
   "execution_count": 37,
   "metadata": {},
   "outputs": [
    {
     "data": {
      "text/plain": [
       "LogisticRegression(solver='liblinear')"
      ]
     },
     "execution_count": 37,
     "metadata": {},
     "output_type": "execute_result"
    }
   ],
   "source": [
    "model.fit(poly.transform(X),y)"
   ]
  },
  {
   "cell_type": "code",
   "execution_count": 38,
   "metadata": {},
   "outputs": [],
   "source": [
    "x11, x22 = np.meshgrid(\n",
    "    np.linspace(X.T[0].min(), X.T[0].max(),1000),\n",
    "    np.linspace(X.T[1].min(), X.T[1].max(),1000))"
   ]
  },
  {
   "cell_type": "code",
   "execution_count": 39,
   "metadata": {},
   "outputs": [
    {
     "data": {
      "text/plain": [
       "<matplotlib.contour.QuadContourSet at 0x18c27011f10>"
      ]
     },
     "execution_count": 39,
     "metadata": {},
     "output_type": "execute_result"
    },
    {
     "data": {
      "image/png": "[encoded data removed]",
      "text/plain": [
       "<Figure size 432x288 with 1 Axes>"
      ]
     },
     "metadata": {
      "needs_background": "light"
     },
     "output_type": "display_data"
    }
   ],
   "source": [
    "plt.scatter(X.T[0], X.T[1], c=y, edgecolors= \"black\" )\n",
    "plt.contourf(x11,x22,\n",
    "             model.predict(poly.transform(\n",
    "                 np.array(\n",
    "                     [x11.ravel(),x22.ravel()]).T)).reshape(x11.shape), alpha= 0.1)"
   ]
  },
  {
   "cell_type": "code",
   "execution_count": null,
   "metadata": {},
   "outputs": [],
   "source": []
  }
 ],
 "metadata": {
  "colab": {
   "collapsed_sections": [],
   "name": "Logistic_Regresyon.ipynb",
   "provenance": []
  },
  "kernelspec": {
   "display_name": "Python 3 (ipykernel)",
   "language": "python",
   "name": "python3"
  },
  "language_info": {
   "codemirror_mode": {
    "name": "ipython",
    "version": 3
   },
   "file_extension": ".py",
   "mimetype": "text/x-python",
   "name": "python",
   "nbconvert_exporter": "python",
   "pygments_lexer": "ipython3",
   "version": "3.8.12"
  }
 },
 "nbformat": 4,
 "nbformat_minor": 1
}
