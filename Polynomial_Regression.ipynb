{
 "cells": [
  {
   "cell_type": "code",
   "execution_count": 1,
   "metadata": {},
   "outputs": [],
   "source": [
    "import numpy as np"
   ]
  },
  {
   "cell_type": "code",
   "execution_count": 2,
   "metadata": {},
   "outputs": [],
   "source": [
    "n = 20\n",
    "X = np.random.uniform(-3, 5, size=n)"
   ]
  },
  {
   "cell_type": "code",
   "execution_count": 3,
   "metadata": {},
   "outputs": [],
   "source": [
    "b = [45, -6, 1.2, -1, 0.1]\n",
    "hata = np.random.normal(0, 4, size=n)"
   ]
  },
  {
   "cell_type": "code",
   "execution_count": 4,
   "metadata": {},
   "outputs": [],
   "source": [
    "y = b[0] \\\n",
    "+ b[1] * X \\\n",
    "+ b[2] * X**2 \\\n",
    "+ b[3] * X**3 \\\n",
    "+ b[4] * X**4 + hata"
   ]
  },
  {
   "cell_type": "code",
   "execution_count": 5,
   "metadata": {},
   "outputs": [],
   "source": [
    "import matplotlib.pyplot as plt"
   ]
  },
  {
   "cell_type": "code",
   "execution_count": 6,
   "metadata": {},
   "outputs": [
    {
     "data": {
      "text/plain": [
       "<matplotlib.collections.PathCollection at 0x2079242cc18>"
      ]
     },
     "execution_count": 6,
     "metadata": {},
     "output_type": "execute_result"
    },
    {
     "data": {
      "image/png": "[encoded data removed]",
      "text/plain": [
       "<Figure size 432x288 with 1 Axes>"
      ]
     },
     "metadata": {
      "needs_background": "light"
     },
     "output_type": "display_data"
    }
   ],
   "source": [
    "plt.scatter(X, y)"
   ]
  },
  {
   "cell_type": "code",
   "execution_count": 7,
   "metadata": {},
   "outputs": [],
   "source": [
    "from sklearn.model_selection import train_test_split"
   ]
  },
  {
   "cell_type": "code",
   "execution_count": 8,
   "metadata": {},
   "outputs": [],
   "source": [
    "X = X.reshape(n, 1)\n",
    "y = y.reshape(n, 1)\n",
    "X_train, X_test, y_train, y_test = train_test_split(X, y, test_size=0.2, random_state=0)"
   ]
  },
  {
   "cell_type": "code",
   "execution_count": 9,
   "metadata": {},
   "outputs": [],
   "source": [
    "from sklearn.preprocessing import PolynomialFeatures "
   ]
  },
  {
   "cell_type": "code",
   "execution_count": 10,
   "metadata": {},
   "outputs": [],
   "source": [
    "polyRegressor = PolynomialFeatures(degree=3)"
   ]
  },
  {
   "cell_type": "code",
   "execution_count": 11,
   "metadata": {},
   "outputs": [
    {
     "data": {
      "text/plain": [
       "PolynomialFeatures(degree=3, include_bias=True, interaction_only=False)"
      ]
     },
     "execution_count": 11,
     "metadata": {},
     "output_type": "execute_result"
    }
   ],
   "source": [
    "polyRegressor.fit(X,y)"
   ]
  },
  {
   "cell_type": "code",
   "execution_count": 12,
   "metadata": {},
   "outputs": [
    {
     "data": {
      "text/plain": [
       "array([[ 1.00000000e+00,  3.64354385e+00,  1.32754118e+01,\n",
       "         4.83695451e+01],\n",
       "       [ 1.00000000e+00, -2.60361634e+00,  6.77881802e+00,\n",
       "        -1.76494413e+01],\n",
       "       [ 1.00000000e+00, -2.35576499e+00,  5.54962871e+00,\n",
       "        -1.30736210e+01],\n",
       "       [ 1.00000000e+00, -1.92064090e+00,  3.68886148e+00,\n",
       "        -7.08497825e+00],\n",
       "       [ 1.00000000e+00, -2.26245995e+00,  5.11872501e+00,\n",
       "        -1.15809103e+01],\n",
       "       [ 1.00000000e+00,  4.14659842e+00,  1.71942785e+01,\n",
       "         7.12977681e+01],\n",
       "       [ 1.00000000e+00, -1.37403759e+00,  1.88797931e+00,\n",
       "        -2.59415454e+00],\n",
       "       [ 1.00000000e+00,  4.96011222e-03,  2.46027133e-05,\n",
       "         1.22032219e-07],\n",
       "       [ 1.00000000e+00,  2.01124832e+00,  4.04511980e+00,\n",
       "         8.13574039e+00],\n",
       "       [ 1.00000000e+00, -8.15974371e-01,  6.65814173e-01,\n",
       "        -5.43287301e-01],\n",
       "       [ 1.00000000e+00, -1.05556730e+00,  1.11422232e+00,\n",
       "        -1.17613664e+00],\n",
       "       [ 1.00000000e+00, -1.11029181e+00,  1.23274791e+00,\n",
       "        -1.36870992e+00],\n",
       "       [ 1.00000000e+00,  4.35654711e+00,  1.89795027e+01,\n",
       "         8.26850976e+01],\n",
       "       [ 1.00000000e+00,  2.24111821e+00,  5.02261085e+00,\n",
       "         1.12562647e+01],\n",
       "       [ 1.00000000e+00,  4.29960868e+00,  1.84866348e+01,\n",
       "         7.94852953e+01],\n",
       "       [ 1.00000000e+00, -1.49312120e+00,  2.22941091e+00,\n",
       "        -3.32878068e+00],\n",
       "       [ 1.00000000e+00, -2.26558177e-01,  5.13286076e-02,\n",
       "        -1.16289158e-02],\n",
       "       [ 1.00000000e+00,  4.07815817e+00,  1.66313741e+01,\n",
       "         6.78253740e+01],\n",
       "       [ 1.00000000e+00,  1.10918655e+00,  1.23029479e+00,\n",
       "         1.36462643e+00],\n",
       "       [ 1.00000000e+00,  1.46095762e+00,  2.13439716e+00,\n",
       "         3.11826379e+00]])"
      ]
     },
     "execution_count": 12,
     "metadata": {},
     "output_type": "execute_result"
    }
   ],
   "source": [
    "polyRegressor.fit_transform(X)"
   ]
  },
  {
   "cell_type": "code",
   "execution_count": 13,
   "metadata": {},
   "outputs": [],
   "source": [
    "from sklearn.linear_model import LinearRegression"
   ]
  },
  {
   "cell_type": "code",
   "execution_count": 14,
   "metadata": {},
   "outputs": [
    {
     "name": "stdout",
     "output_type": "stream",
     "text": [
      "(16, 1)\n",
      "(16, 2)\n",
      "(16, 3)\n",
      "(16, 4)\n",
      "(16, 5)\n",
      "(16, 6)\n",
      "(16, 7)\n",
      "(16, 8)\n"
     ]
    }
   ],
   "source": [
    "degree = [1,2,3,4,5,6,7,8]\n",
    "poly_train = []\n",
    "poly_test = []\n",
    "for dg in degree:\n",
    "    polyRegressor = PolynomialFeatures(degree=dg, include_bias=False)\n",
    "    xp = polyRegressor.fit_transform(X_train)\n",
    "    print(xp.shape)\n",
    "    regressor = LinearRegression()\n",
    "    regressor.fit(xp, y_train)\n",
    "    poly_train.append(regressor.score(xp, y_train))\n",
    "    poly_test.append(regressor.score(polyRegressor.transform(X_test), y_test))"
   ]
  },
  {
   "cell_type": "code",
   "execution_count": 15,
   "metadata": {},
   "outputs": [
    {
     "data": {
      "text/plain": [
       "<matplotlib.legend.Legend at 0x20793de4710>"
      ]
     },
     "execution_count": 15,
     "metadata": {},
     "output_type": "execute_result"
    },
    {
     "data": {
      "image/png": "[encoded data removed]",
      "text/plain": [
       "<Figure size 864x576 with 1 Axes>"
      ]
     },
     "metadata": {
      "needs_background": "light"
     },
     "output_type": "display_data"
    }
   ],
   "source": [
    "plt.figure(figsize=(12,8))\n",
    "plt.plot(degree, poly_train, label='train')\n",
    "plt.plot(degree, poly_test, color='red', label='test')\n",
    "plt.xlabel('DEGREE OF POLYNOMIAL')\n",
    "plt.ylabel('SCORE')\n",
    "plt.legend()"
   ]
  },
  {
   "cell_type": "code",
   "execution_count": 24,
   "metadata": {},
   "outputs": [],
   "source": [
    "polyRegressor3 = PolynomialFeatures(degree=3)\n",
    "pc3 = polyRegressor3.fit_transform(X_train)"
   ]
  },
  {
   "cell_type": "code",
   "execution_count": 25,
   "metadata": {},
   "outputs": [],
   "source": [
    "linear3 = LinearRegression()"
   ]
  },
  {
   "cell_type": "code",
   "execution_count": 26,
   "metadata": {},
   "outputs": [
    {
     "data": {
      "text/plain": [
       "LinearRegression(copy_X=True, fit_intercept=True, n_jobs=None,\n",
       "         normalize=False)"
      ]
     },
     "execution_count": 26,
     "metadata": {},
     "output_type": "execute_result"
    }
   ],
   "source": [
    "linear3.fit(pc3, y_train)"
   ]
  },
  {
   "cell_type": "code",
   "execution_count": 27,
   "metadata": {},
   "outputs": [
    {
     "data": {
      "text/plain": [
       "0.9886136975771226"
      ]
     },
     "execution_count": 27,
     "metadata": {},
     "output_type": "execute_result"
    }
   ],
   "source": [
    "linear3.score(pc3, y_train)"
   ]
  },
  {
   "cell_type": "code",
   "execution_count": 28,
   "metadata": {},
   "outputs": [
    {
     "data": {
      "text/plain": [
       "0.9589201786686108"
      ]
     },
     "execution_count": 28,
     "metadata": {},
     "output_type": "execute_result"
    }
   ],
   "source": [
    "linear3.score(polyRegressor3.transform(X_test), y_test)"
   ]
  },
  {
   "cell_type": "code",
   "execution_count": 29,
   "metadata": {},
   "outputs": [
    {
     "data": {
      "text/plain": [
       "array([45.00017142])"
      ]
     },
     "execution_count": 29,
     "metadata": {},
     "output_type": "execute_result"
    }
   ],
   "source": [
    "linear3.intercept_"
   ]
  },
  {
   "cell_type": "code",
   "execution_count": 30,
   "metadata": {},
   "outputs": [
    {
     "data": {
      "text/plain": [
       "array([[ 0.        , -7.15363818,  1.51118567, -0.61257193]])"
      ]
     },
     "execution_count": 30,
     "metadata": {},
     "output_type": "execute_result"
    }
   ],
   "source": [
    "linear3.coef_ # we can compare the results with \"b\""
   ]
  },
  {
   "cell_type": "code",
   "execution_count": 24,
   "metadata": {},
   "outputs": [
    {
     "data": {
      "text/plain": [
       "[45, -6, 1.2, -1, 0.1]"
      ]
     },
     "execution_count": 24,
     "metadata": {},
     "output_type": "execute_result"
    }
   ],
   "source": [
    "b #results are close to each other"
   ]
  },
  {
   "cell_type": "code",
   "execution_count": 31,
   "metadata": {},
   "outputs": [],
   "source": [
    "y_pred = linear3.predict(pc3)"
   ]
  },
  {
   "cell_type": "code",
   "execution_count": 32,
   "metadata": {},
   "outputs": [
    {
     "data": {
      "text/plain": [
       "<matplotlib.collections.PathCollection at 0x20793e1a710>"
      ]
     },
     "execution_count": 32,
     "metadata": {},
     "output_type": "execute_result"
    },
    {
     "data": {
      "image/png": "[encoded data removed]",
      "text/plain": [
       "<Figure size 432x288 with 1 Axes>"
      ]
     },
     "metadata": {
      "needs_background": "light"
     },
     "output_type": "display_data"
    }
   ],
   "source": [
    "plt.scatter(X, y)\n",
    "plt.scatter(X_train, y_pred, color='red')"
   ]
  },
  {
   "cell_type": "code",
   "execution_count": null,
   "metadata": {},
   "outputs": [],
   "source": []
  }
 ],
 "metadata": {
  "kernelspec": {
   "display_name": "Python 3",
   "language": "python",
   "name": "python3"
  },
  "language_info": {
   "codemirror_mode": {
    "name": "ipython",
    "version": 3
   },
   "file_extension": ".py",
   "mimetype": "text/x-python",
   "name": "python",
   "nbconvert_exporter": "python",
   "pygments_lexer": "ipython3",
   "version": "3.7.3"
  }
 },
 "nbformat": 4,
 "nbformat_minor": 2
}
