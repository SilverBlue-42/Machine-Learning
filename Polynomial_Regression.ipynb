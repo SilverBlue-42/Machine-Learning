{
 "cells": [
  {
   "cell_type": "code",
   "execution_count": 1,
   "metadata": {},
   "outputs": [],
   "source": [
    "import numpy as np"
   ]
  },
  {
   "cell_type": "code",
   "execution_count": 2,
   "metadata": {},
   "outputs": [],
   "source": [
    "n = 20\n",
    "X = np.random.uniform(-3, 5, size=n)"
   ]
  },
  {
   "cell_type": "code",
   "execution_count": 3,
   "metadata": {},
   "outputs": [],
   "source": [
    "b = [45, -6, 1.2, -1, 0.1]\n",
    "hata = np.random.normal(0, 4, size=n)"
   ]
  },
  {
   "cell_type": "code",
   "execution_count": 4,
   "metadata": {},
   "outputs": [],
   "source": [
    "y = b[0] \\\n",
    "+ b[1] * X \\\n",
    "+ b[2] * X**2 \\\n",
    "+ b[3] * X**3 \\\n",
    "+ b[4] * X**4 + hata"
   ]
  },
  {
   "cell_type": "code",
   "execution_count": 5,
   "metadata": {},
   "outputs": [],
   "source": [
    "import matplotlib.pyplot as plt"
   ]
  },
  {
   "cell_type": "code",
   "execution_count": 6,
   "metadata": {},
   "outputs": [
    {
     "data": {
      "text/plain": [
       "<matplotlib.collections.PathCollection at 0x28e8a3adbe0>"
      ]
     },
     "execution_count": 6,
     "metadata": {},
     "output_type": "execute_result"
    },
    {
     "data": {
      "image/png": "[encoded data removed]",
      "text/plain": [
       "<Figure size 432x288 with 1 Axes>"
      ]
     },
     "metadata": {
      "needs_background": "light"
     },
     "output_type": "display_data"
    }
   ],
   "source": [
    "plt.scatter(X, y)"
   ]
  },
  {
   "cell_type": "code",
   "execution_count": 7,
   "metadata": {},
   "outputs": [],
   "source": [
    "from sklearn.model_selection import train_test_split"
   ]
  },
  {
   "cell_type": "code",
   "execution_count": 9,
   "metadata": {},
   "outputs": [],
   "source": [
    "X = X.reshape(n, 1)\n",
    "y = y.reshape(n, 1)\n",
    "X_train, X_test, y_train, y_test = train_test_split(X, y, test_size=0.2, random_state=0)"
   ]
  },
  {
   "cell_type": "code",
   "execution_count": 10,
   "metadata": {},
   "outputs": [],
   "source": [
    "from sklearn.preprocessing import PolynomialFeatures "
   ]
  },
  {
   "cell_type": "code",
   "execution_count": 11,
   "metadata": {},
   "outputs": [],
   "source": [
    "polyClassifier = PolynomialFeatures(degree=3)"
   ]
  },
  {
   "cell_type": "code",
   "execution_count": 12,
   "metadata": {},
   "outputs": [
    {
     "data": {
      "text/plain": [
       "PolynomialFeatures(degree=3, include_bias=True, interaction_only=False)"
      ]
     },
     "execution_count": 12,
     "metadata": {},
     "output_type": "execute_result"
    }
   ],
   "source": [
    "polyClassifier.fit(X,y)"
   ]
  },
  {
   "cell_type": "code",
   "execution_count": 13,
   "metadata": {},
   "outputs": [
    {
     "data": {
      "text/plain": [
       "array([[ 1.00000000e+00, -5.85807086e-02,  3.43169942e-03,\n",
       "        -2.01031384e-04],\n",
       "       [ 1.00000000e+00,  4.58389209e+00,  2.10120667e+01,\n",
       "         9.63170460e+01],\n",
       "       [ 1.00000000e+00, -9.43739796e-01,  8.90644802e-01,\n",
       "        -8.40536944e-01],\n",
       "       [ 1.00000000e+00,  2.98858037e+00,  8.93161263e+00,\n",
       "         2.66928422e+01],\n",
       "       [ 1.00000000e+00, -2.90858569e+00,  8.45987073e+00,\n",
       "        -2.46062590e+01],\n",
       "       [ 1.00000000e+00,  4.67188799e+00,  2.18265374e+01,\n",
       "         1.01971138e+02],\n",
       "       [ 1.00000000e+00, -2.15173656e+00,  4.62997021e+00,\n",
       "        -9.96247615e+00],\n",
       "       [ 1.00000000e+00,  4.93193060e+00,  2.43239394e+01,\n",
       "         1.19963981e+02],\n",
       "       [ 1.00000000e+00,  3.61378988e+00,  1.30594773e+01,\n",
       "         4.71942069e+01],\n",
       "       [ 1.00000000e+00,  2.16867751e+00,  4.70316214e+00,\n",
       "         1.01996419e+01],\n",
       "       [ 1.00000000e+00,  4.57496772e+00,  2.09303296e+01,\n",
       "         9.57555822e+01],\n",
       "       [ 1.00000000e+00,  3.22239324e+00,  1.03838182e+01,\n",
       "         3.34607456e+01],\n",
       "       [ 1.00000000e+00, -1.72369505e+00,  2.97112463e+00,\n",
       "        -5.12131282e+00],\n",
       "       [ 1.00000000e+00,  4.78201827e+00,  2.28676987e+01,\n",
       "         1.09353753e+02],\n",
       "       [ 1.00000000e+00,  4.29697554e+00,  1.84639988e+01,\n",
       "         7.93393514e+01],\n",
       "       [ 1.00000000e+00, -1.84082110e+00,  3.38862234e+00,\n",
       "        -6.23784752e+00],\n",
       "       [ 1.00000000e+00, -4.27963605e-01,  1.83152847e-01,\n",
       "        -7.83827526e-02],\n",
       "       [ 1.00000000e+00, -1.14267413e+00,  1.30570418e+00,\n",
       "        -1.49199439e+00],\n",
       "       [ 1.00000000e+00,  3.83099566e+00,  1.46765277e+01,\n",
       "         5.62257141e+01],\n",
       "       [ 1.00000000e+00,  4.32840844e+00,  1.87351197e+01,\n",
       "         8.10932501e+01]])"
      ]
     },
     "execution_count": 13,
     "metadata": {},
     "output_type": "execute_result"
    }
   ],
   "source": [
    "polyClassifier.fit_transform(X)"
   ]
  },
  {
   "cell_type": "code",
   "execution_count": 14,
   "metadata": {},
   "outputs": [],
   "source": [
    "from sklearn.linear_model import LinearRegression"
   ]
  },
  {
   "cell_type": "code",
   "execution_count": 15,
   "metadata": {},
   "outputs": [
    {
     "name": "stdout",
     "output_type": "stream",
     "text": [
      "(16, 1)\n",
      "(16, 2)\n",
      "(16, 3)\n",
      "(16, 4)\n",
      "(16, 5)\n",
      "(16, 6)\n",
      "(16, 7)\n",
      "(16, 8)\n"
     ]
    }
   ],
   "source": [
    "degree = [1,2,3,4,5,6,7,8]\n",
    "poly_train = []\n",
    "poly_test = []\n",
    "for dg in degree:\n",
    "    polyClassifier = PolynomialFeatures(degree=dg, include_bias=False)\n",
    "    xp = polyClassifier.fit_transform(X_train)\n",
    "    print(xp.shape)\n",
    "    classifier = LinearRegression()\n",
    "    classifier.fit(xp, y_train)\n",
    "    poly_train.append(classifier.score(xp, y_train))\n",
    "    poly_test.append(classifier.score(polyClassifier.transform(X_test), y_test))"
   ]
  },
  {
   "cell_type": "code",
   "execution_count": 16,
   "metadata": {},
   "outputs": [
    {
     "data": {
      "text/plain": [
       "<matplotlib.legend.Legend at 0x28e8bee19b0>"
      ]
     },
     "execution_count": 16,
     "metadata": {},
     "output_type": "execute_result"
    },
    {
     "data": {
      "image/png": "[encoded data removed]",
      "text/plain": [
       "<Figure size 864x576 with 1 Axes>"
      ]
     },
     "metadata": {
      "needs_background": "light"
     },
     "output_type": "display_data"
    }
   ],
   "source": [
    "plt.figure(figsize=(12,8))\n",
    "plt.plot(degree, poly_train, label='train')\n",
    "plt.plot(degree, poly_test, color='red', label='test')\n",
    "plt.xlabel('DEGREE OF POLYNOMIAL')\n",
    "plt.ylabel('SCORE')\n",
    "plt.legend()"
   ]
  },
  {
   "cell_type": "code",
   "execution_count": 17,
   "metadata": {},
   "outputs": [],
   "source": [
    "polyClassifier4 = PolynomialFeatures(degree=4)\n",
    "pc4 = polyClassifier4.fit_transform(X_train)"
   ]
  },
  {
   "cell_type": "code",
   "execution_count": 18,
   "metadata": {},
   "outputs": [],
   "source": [
    "linear4 = LinearRegression()"
   ]
  },
  {
   "cell_type": "code",
   "execution_count": 19,
   "metadata": {},
   "outputs": [
    {
     "data": {
      "text/plain": [
       "LinearRegression(copy_X=True, fit_intercept=True, n_jobs=None,\n",
       "         normalize=False)"
      ]
     },
     "execution_count": 19,
     "metadata": {},
     "output_type": "execute_result"
    }
   ],
   "source": [
    "linear4.fit(pc4, y_train)"
   ]
  },
  {
   "cell_type": "code",
   "execution_count": 20,
   "metadata": {},
   "outputs": [
    {
     "data": {
      "text/plain": [
       "0.9937665989974397"
      ]
     },
     "execution_count": 20,
     "metadata": {},
     "output_type": "execute_result"
    }
   ],
   "source": [
    "linear4.score(pc4, y_train)"
   ]
  },
  {
   "cell_type": "code",
   "execution_count": 21,
   "metadata": {},
   "outputs": [
    {
     "data": {
      "text/plain": [
       "0.9490031385060327"
      ]
     },
     "execution_count": 21,
     "metadata": {},
     "output_type": "execute_result"
    }
   ],
   "source": [
    "linear4.score(polyClassifier4.transform(X_test), y_test)"
   ]
  },
  {
   "cell_type": "code",
   "execution_count": 22,
   "metadata": {},
   "outputs": [
    {
     "data": {
      "text/plain": [
       "array([45.07373807])"
      ]
     },
     "execution_count": 22,
     "metadata": {},
     "output_type": "execute_result"
    }
   ],
   "source": [
    "linear4.intercept_"
   ]
  },
  {
   "cell_type": "code",
   "execution_count": 23,
   "metadata": {},
   "outputs": [
    {
     "data": {
      "text/plain": [
       "array([[ 0.        , -9.56148056,  1.415371  , -0.71998892,  0.0663558 ]])"
      ]
     },
     "execution_count": 23,
     "metadata": {},
     "output_type": "execute_result"
    }
   ],
   "source": [
    "linear4.coef_ # we can compare the results with \"b\""
   ]
  },
  {
   "cell_type": "code",
   "execution_count": 24,
   "metadata": {},
   "outputs": [
    {
     "data": {
      "text/plain": [
       "[45, -6, 1.2, -1, 0.1]"
      ]
     },
     "execution_count": 24,
     "metadata": {},
     "output_type": "execute_result"
    }
   ],
   "source": [
    "b #results are close to each other"
   ]
  },
  {
   "cell_type": "code",
   "execution_count": 25,
   "metadata": {},
   "outputs": [],
   "source": [
    "y_pred = linear4.predict(pc4)"
   ]
  },
  {
   "cell_type": "code",
   "execution_count": 26,
   "metadata": {},
   "outputs": [
    {
     "data": {
      "text/plain": [
       "<matplotlib.collections.PathCollection at 0x28e8c035cc0>"
      ]
     },
     "execution_count": 26,
     "metadata": {},
     "output_type": "execute_result"
    },
    {
     "data": {
      "image/png": "[encoded data removed]",
      "text/plain": [
       "<Figure size 432x288 with 1 Axes>"
      ]
     },
     "metadata": {
      "needs_background": "light"
     },
     "output_type": "display_data"
    }
   ],
   "source": [
    "plt.scatter(X, y)\n",
    "plt.scatter(X_train, y_pred, color='red')"
   ]
  }
 ],
 "metadata": {
  "kernelspec": {
   "display_name": "Python 3",
   "language": "python",
   "name": "python3"
  },
  "language_info": {
   "codemirror_mode": {
    "name": "ipython",
    "version": 3
   },
   "file_extension": ".py",
   "mimetype": "text/x-python",
   "name": "python",
   "nbconvert_exporter": "python",
   "pygments_lexer": "ipython3",
   "version": "3.7.3"
  }
 },
 "nbformat": 4,
 "nbformat_minor": 2
}
