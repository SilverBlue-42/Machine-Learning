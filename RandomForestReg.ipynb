{
 "cells": [
  {
   "cell_type": "code",
   "execution_count": 53,
   "metadata": {},
   "outputs": [],
   "source": [
    "import numpy as np"
   ]
  },
  {
   "cell_type": "code",
   "execution_count": 54,
   "metadata": {},
   "outputs": [
    {
     "data": {
      "text/plain": [
       "array([ 1.9391714 , -0.31455215, -1.7979658 , -0.61105405,  4.3270902 ,\n",
       "        1.50367998, -1.00404861,  2.33460016,  4.33367863,  1.9076191 ,\n",
       "        0.44429691,  1.86851078, -1.25034329,  4.41313816,  3.46585906,\n",
       "        3.47669782, -1.20388047,  3.17357249, -1.52962161,  0.73398204,\n",
       "        0.47329912, -1.98860209,  2.87006732, -0.13137125,  4.49864774,\n",
       "       -2.06402246,  4.67299987,  1.68912254,  3.71530411,  3.17664205,\n",
       "        3.23629926, -1.13970075, -0.85442474,  3.32929505, -0.21837563,\n",
       "        1.89804742, -0.60995872,  0.25100778, -1.85360096,  0.94785968,\n",
       "       -0.61923529, -0.78229491,  1.84639163,  1.06286655,  3.55146458,\n",
       "        3.85379802,  0.79001069,  2.5616589 ,  4.75859857,  4.2062438 ,\n",
       "       -2.54218124,  2.77573111,  4.05449358,  0.21827873, -2.64588692,\n",
       "        0.70123346,  1.34799475,  4.15023783, -1.42279878,  0.52865443,\n",
       "       -2.81217672,  2.65970952,  1.35905013,  2.31567377,  0.50707585,\n",
       "       -2.85839514, -2.04001368, -1.1038304 ,  1.09340265, -0.47436946,\n",
       "        3.09457576,  2.45243054, -1.4104181 , -1.11031292, -0.75431954,\n",
       "        0.9042298 , -1.94476937,  0.21511525, -2.02670039,  3.21392297,\n",
       "       -0.68537482,  1.41388362,  0.66798815,  4.29744654,  0.15218156,\n",
       "        0.5712904 ,  0.2933116 , -2.43819152,  0.68592787,  0.22959735,\n",
       "        4.74019714, -2.72418518, -0.07385022,  3.87894183, -1.34559696,\n",
       "       -1.62357246,  3.80129465, -1.39379464, -2.65960549, -0.87830041])"
      ]
     },
     "execution_count": 54,
     "metadata": {},
     "output_type": "execute_result"
    }
   ],
   "source": [
    "n = 100\n",
    "x1 = np.random.uniform(-3, 5, size=n)\n",
    "x1"
   ]
  },
  {
   "cell_type": "code",
   "execution_count": 55,
   "metadata": {},
   "outputs": [
    {
     "data": {
      "text/plain": [
       "array([-3.51334181, -4.15290374, -0.97282936,  2.5184064 ,  0.61359585,\n",
       "        2.60457438, -0.63782148,  1.73789998, -1.68139494, -6.71999565,\n",
       "       -1.21016612,  2.54597429,  3.50010192,  2.88117582, -0.34987934,\n",
       "       -2.76229846,  0.26608386,  7.57182719,  4.85791108, -2.55314361,\n",
       "        0.92515167,  4.30557795, -2.1862976 ,  4.34057454,  4.00024104,\n",
       "       -4.00285718, -4.09064589,  5.76792816, -3.6516794 ,  1.22806734,\n",
       "       -0.31674688,  0.5721834 ,  8.35675143, -2.59754978,  2.10895184,\n",
       "        3.57263154, -1.42402674, -3.49102371,  1.43677963, 10.26336917,\n",
       "        5.35586163,  0.32875897, -4.25078824, -6.15454922, -3.88429575,\n",
       "       -5.49037443,  1.48876561,  2.07441447,  1.63078613,  6.94976849,\n",
       "        1.19034076,  2.07339553, -0.18839292,  0.83152011,  6.46038905,\n",
       "       -5.2256998 ,  1.76253063,  0.94658174,  1.80938392, -2.67739221,\n",
       "       -3.39819529, -5.13959347, -2.91466361,  1.1736431 , -0.83311121,\n",
       "        3.43304077,  3.06143102,  3.67289243, -2.31162203,  2.29315743,\n",
       "       -0.21830185, -0.96587558,  1.49209221,  0.15545797, -0.35959528,\n",
       "       -3.13281518,  1.54377749, -5.33232906,  0.24304622, -2.46740268,\n",
       "       -4.20357588, -2.70814251,  1.85459603, -1.6051131 , -3.6604504 ,\n",
       "        6.80236552,  7.96872936, -4.69132663, -2.98046805,  0.29817423,\n",
       "       -5.2359667 , -3.81037281,  4.57743294, -3.83884158,  2.26307736,\n",
       "        1.68255115,  1.39515672,  0.96147207,  2.71625717, -3.99156952])"
      ]
     },
     "execution_count": 55,
     "metadata": {},
     "output_type": "execute_result"
    }
   ],
   "source": [
    "b = [45,-6,1.2,-1,0.1]\n",
    "error = np.random.normal(0, 4, size=n)\n",
    "error"
   ]
  },
  {
   "cell_type": "code",
   "execution_count": 56,
   "metadata": {},
   "outputs": [
    {
     "data": {
      "text/plain": [
       "array([ 2.84861103e+01,  4.28852426e+01,  6.55514553e+01,  5.18748966e+01,\n",
       "       -3.84194410e+00,  3.84070941e+01,  5.27100308e+01,  2.95169622e+01,\n",
       "       -6.26463195e+00,  2.55834961e+01,  4.12771247e+01,  3.52198565e+01,\n",
       "        6.00773352e+01, -3.24541862e+00,  1.10663062e+01,  8.46868521e+00,\n",
       "        5.61834336e+01,  2.37970707e+01,  6.59696912e+01,  3.83230448e+01,\n",
       "        4.32531649e+01,  7.54104767e+01,  1.86217644e+01,  5.01518092e+01,\n",
       "       -3.79214021e+00,  6.91015499e+01, -1.52831509e+01,  4.00516982e+01,\n",
       "        3.39015315e+00,  1.74047505e+01,  1.49077052e+01,  5.56181855e+01,\n",
       "        6.00364116e+01,  1.11110971e+01,  4.84870724e+01,  3.59674337e+01,\n",
       "        4.79229622e+01,  4.00631178e+01,  6.92305564e+01,  4.98834626e+01,\n",
       "        5.47835669e+01,  5.12731165e+01,  2.86294468e+01,  3.27507880e+01,\n",
       "        6.05665397e+00, -9.69256658e-01,  4.20435349e+01,  2.70752350e+01,\n",
       "       -1.12263851e+01,  4.82678587e+00,  8.98045987e+01,  2.42147142e+01,\n",
       "        5.83662315e-01,  4.45688494e+01,  9.91606834e+01,  3.58363368e+01,\n",
       "        3.87358239e+01, -1.02889483e-01,  6.10654579e+01,  3.93461165e+01,\n",
       "        9.64586952e+01,  1.85803094e+01,  3.39784145e+01,  2.91724472e+01,\n",
       "        4.13092138e+01,  1.05417797e+02,  7.55172729e+01,  5.82514175e+01,\n",
       "        3.63983314e+01,  5.05212151e+01,  1.72417719e+01,  2.54042230e+01,\n",
       "        6.05431745e+01,  5.48174555e+01,  5.03107017e+01,  3.67504892e+01,\n",
       "        7.15367628e+01,  3.84227687e+01,  7.23441346e+01,  1.31160888e+01,\n",
       "        4.58163719e+01,  3.37806149e+01,  4.31039654e+01, -5.48670469e+00,\n",
       "        4.04507805e+01,  4.85904687e+01,  5.12876038e+01,  8.01001015e+01,\n",
       "        3.81679709e+01,  4.39720227e+01, -1.77357958e+01,  9.21642406e+01,\n",
       "        5.00274846e+01,  2.18422938e-01,  6.02736349e+01,  6.45617307e+01,\n",
       "        6.87888527e+00,  5.97405042e+01,  9.59782571e+01,  4.79409656e+01])"
      ]
     },
     "execution_count": 56,
     "metadata": {},
     "output_type": "execute_result"
    }
   ],
   "source": [
    "y = b[0] \\\n",
    "+ b[1] * x1 \\\n",
    "+ b[2] * x1**2 \\\n",
    "+ b[3] * x1**3 \\\n",
    "+ b[4] * x1**4 + error\n",
    "y"
   ]
  },
  {
   "cell_type": "code",
   "execution_count": 57,
   "metadata": {},
   "outputs": [],
   "source": [
    "import matplotlib.pyplot as plt"
   ]
  },
  {
   "cell_type": "code",
   "execution_count": 58,
   "metadata": {},
   "outputs": [
    {
     "data": {
      "text/plain": [
       "<matplotlib.collections.PathCollection at 0x236116e7c88>"
      ]
     },
     "execution_count": 58,
     "metadata": {},
     "output_type": "execute_result"
    },
    {
     "data": {
      "image/png": "[encoded data removed]",
      "text/plain": [
       "<Figure size 432x288 with 1 Axes>"
      ]
     },
     "metadata": {
      "needs_background": "light"
     },
     "output_type": "display_data"
    }
   ],
   "source": [
    "plt.scatter(x1, y)"
   ]
  },
  {
   "cell_type": "code",
   "execution_count": 59,
   "metadata": {},
   "outputs": [],
   "source": [
    "from sklearn.model_selection import train_test_split"
   ]
  },
  {
   "cell_type": "code",
   "execution_count": 60,
   "metadata": {},
   "outputs": [],
   "source": [
    "# x1 ve y ile model kuruluyor\n",
    "x1 = x1.reshape(n, 1)\n",
    "y = y.reshape(n, 1)\n",
    "x1_train, x1_test, y_train, y_test = ms.train_test_split(x1, y, test_size=0.2, random_state=0)"
   ]
  },
  {
   "cell_type": "code",
   "execution_count": 61,
   "metadata": {},
   "outputs": [],
   "source": [
    "from sklearn.tree import DecisionTreeRegressor"
   ]
  },
  {
   "cell_type": "code",
   "execution_count": 62,
   "metadata": {},
   "outputs": [],
   "source": [
    "model = DecisionTreeRegressor()"
   ]
  },
  {
   "cell_type": "code",
   "execution_count": 63,
   "metadata": {},
   "outputs": [
    {
     "data": {
      "text/plain": [
       "DecisionTreeRegressor(criterion='mse', max_depth=None, max_features=None,\n",
       "           max_leaf_nodes=None, min_impurity_decrease=0.0,\n",
       "           min_impurity_split=None, min_samples_leaf=1,\n",
       "           min_samples_split=2, min_weight_fraction_leaf=0.0,\n",
       "           presort=False, random_state=None, splitter='best')"
      ]
     },
     "execution_count": 63,
     "metadata": {},
     "output_type": "execute_result"
    }
   ],
   "source": [
    "model.fit(x1_train, y_train)"
   ]
  },
  {
   "cell_type": "code",
   "execution_count": 64,
   "metadata": {},
   "outputs": [
    {
     "data": {
      "text/plain": [
       "1.0"
      ]
     },
     "execution_count": 64,
     "metadata": {},
     "output_type": "execute_result"
    }
   ],
   "source": [
    "model.score(x1_train, y_train)"
   ]
  },
  {
   "cell_type": "code",
   "execution_count": 65,
   "metadata": {},
   "outputs": [
    {
     "data": {
      "text/plain": [
       "0.9751835186258114"
      ]
     },
     "execution_count": 65,
     "metadata": {},
     "output_type": "execute_result"
    }
   ],
   "source": [
    "model.score(x1_test, y_test)"
   ]
  },
  {
   "cell_type": "code",
   "execution_count": null,
   "metadata": {},
   "outputs": [],
   "source": []
  },
  {
   "cell_type": "code",
   "execution_count": 66,
   "metadata": {},
   "outputs": [],
   "source": [
    "from sklearn.ensemble import RandomForestRegressor"
   ]
  },
  {
   "cell_type": "code",
   "execution_count": 67,
   "metadata": {},
   "outputs": [],
   "source": [
    "model_forest = RandomForestRegressor(n_estimators=100, random_state=0, oob_score=True, n_jobs=-1)"
   ]
  },
  {
   "cell_type": "code",
   "execution_count": 68,
   "metadata": {},
   "outputs": [
    {
     "data": {
      "text/plain": [
       "RandomForestRegressor(bootstrap=True, criterion='mse', max_depth=None,\n",
       "           max_features='auto', max_leaf_nodes=None,\n",
       "           min_impurity_decrease=0.0, min_impurity_split=None,\n",
       "           min_samples_leaf=1, min_samples_split=2,\n",
       "           min_weight_fraction_leaf=0.0, n_estimators=100, n_jobs=-1,\n",
       "           oob_score=True, random_state=0, verbose=0, warm_start=False)"
      ]
     },
     "execution_count": 68,
     "metadata": {},
     "output_type": "execute_result"
    }
   ],
   "source": [
    "model_forest.fit(x1_train, y_train.ravel())"
   ]
  },
  {
   "cell_type": "code",
   "execution_count": 69,
   "metadata": {},
   "outputs": [
    {
     "data": {
      "text/plain": [
       "0.9946106421639633"
      ]
     },
     "execution_count": 69,
     "metadata": {},
     "output_type": "execute_result"
    }
   ],
   "source": [
    "model_forest.score(x1_train, y_train)"
   ]
  },
  {
   "cell_type": "code",
   "execution_count": 70,
   "metadata": {},
   "outputs": [
    {
     "data": {
      "text/plain": [
       "0.9818112628315128"
      ]
     },
     "execution_count": 70,
     "metadata": {},
     "output_type": "execute_result"
    }
   ],
   "source": [
    "model_forest.score(x1_test, y_test)"
   ]
  },
  {
   "cell_type": "code",
   "execution_count": 71,
   "metadata": {},
   "outputs": [
    {
     "data": {
      "text/plain": [
       "0.9609104540555816"
      ]
     },
     "execution_count": 71,
     "metadata": {},
     "output_type": "execute_result"
    }
   ],
   "source": [
    "model_forest.oob_score_"
   ]
  },
  {
   "cell_type": "code",
   "execution_count": 72,
   "metadata": {},
   "outputs": [
    {
     "data": {
      "text/plain": [
       "array([1.])"
      ]
     },
     "execution_count": 72,
     "metadata": {},
     "output_type": "execute_result"
    }
   ],
   "source": [
    "model_forest.feature_importances_"
   ]
  },
  {
   "cell_type": "code",
   "execution_count": null,
   "metadata": {},
   "outputs": [],
   "source": []
  }
 ],
 "metadata": {
  "kernelspec": {
   "display_name": "Python 3",
   "language": "python",
   "name": "python3"
  },
  "language_info": {
   "codemirror_mode": {
    "name": "ipython",
    "version": 3
   },
   "file_extension": ".py",
   "mimetype": "text/x-python",
   "name": "python",
   "nbconvert_exporter": "python",
   "pygments_lexer": "ipython3",
   "version": "3.7.3"
  }
 },
 "nbformat": 4,
 "nbformat_minor": 2
}
